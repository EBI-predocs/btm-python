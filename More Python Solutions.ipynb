{
 "cells": [
  {
   "cell_type": "markdown",
   "metadata": {},
   "source": [
    "### Task 1"
   ]
  },
  {
   "cell_type": "code",
   "execution_count": 1,
   "metadata": {},
   "outputs": [],
   "source": [
    "class Taxon(object):\n",
    "    def __init__(self, name, parent, rank):\n",
    "        self.name = name\n",
    "        self.parent = parent\n",
    "        self.rank = rank\n",
    "        \n",
    "pythonidae = Taxon(\"Pythonidae\", None, \"Family\")\n",
    "python = Taxon(\"Python\", pythonidae, \"Genus\")\n",
    "burmese_python = Taxon(\"Python bivittatus\", python, \"Species\")"
   ]
  },
  {
   "cell_type": "markdown",
   "metadata": {},
   "source": [
    "### Task 2"
   ]
  },
  {
   "cell_type": "code",
   "execution_count": 2,
   "metadata": {},
   "outputs": [],
   "source": [
    "class Taxon(object):\n",
    "    def __init__(self, name, parent):\n",
    "        self.name = name\n",
    "        self.parent = parent\n",
    "        \n",
    "    def ancestors(self):\n",
    "        current_taxon = self.parent\n",
    "        while current_taxon is not None:\n",
    "            yield current_taxon\n",
    "            current_taxon = current_taxon.parent\n",
    "            \n",
    "pythonidae = Taxon(\"Pythonidae\", None)\n",
    "python = Taxon(\"Python\", pythonidae)\n",
    "burmese_python = Taxon(\"Python bivittatus\", python)"
   ]
  },
  {
   "cell_type": "code",
   "execution_count": 3,
   "metadata": {},
   "outputs": [
    {
     "data": {
      "text/plain": [
       "['Python', 'Pythonidae']"
      ]
     },
     "execution_count": 3,
     "metadata": {},
     "output_type": "execute_result"
    }
   ],
   "source": [
    "ancestor_names = []\n",
    "for ancestor in burmese_python.ancestors():\n",
    "    ancestor_names.append(ancestor.name)\n",
    "ancestor_names"
   ]
  },
  {
   "cell_type": "markdown",
   "metadata": {},
   "source": [
    "### Task 3"
   ]
  },
  {
   "cell_type": "code",
   "execution_count": 24,
   "metadata": {},
   "outputs": [],
   "source": [
    "class Taxon(object):\n",
    "    def __init__(self, name, parent):\n",
    "        self.name = name\n",
    "        self.parent = parent\n",
    "        self.children = []\n",
    "        if self.parent is not None:\n",
    "            self.parent.children.append(self)\n",
    "        \n",
    "    def ancestors(self):\n",
    "        current_taxon = self\n",
    "        while current_taxon is not None:\n",
    "            yield current_taxon\n",
    "            current_taxon = current_taxon.parent\n",
    "            \n",
    "    def descendents(self):\n",
    "        remaining_taxons = [self]\n",
    "        while len(remaining_taxons) > 0:\n",
    "            current_taxon = remaining_taxons.pop()\n",
    "            if current_taxon is not self:\n",
    "                yield current_taxon\n",
    "            remaining_taxons.extend(current_taxon.children)\n",
    "            \n",
    "    def print_tree(self):\n",
    "        depths = {self: 0}\n",
    "        print(\"* \" + self.name)\n",
    "        for descendent in self.descendents():\n",
    "            depth = depths[descendent.parent] + 1\n",
    "            depths[descendent] = depth\n",
    "            print(\"     \" * depth + \"+--- \" + descendent.name)"
   ]
  },
  {
   "cell_type": "code",
   "execution_count": 25,
   "metadata": {},
   "outputs": [],
   "source": [
    "pythonidae = Taxon(\"Pythonidae\", None)\n",
    "python = Taxon(\"Python\", pythonidae)\n",
    "burmese_python = Taxon(\"Python bivittatus\", python)\n",
    "ball_python = Taxon(\"Python regius\", python)\n",
    "reticulated_python = Taxon(\"Python reticulatus\", python)\n",
    "tree_python = Taxon(\"Morelia\", pythonidae)\n",
    "carpet_python = Taxon(\"Morelia spilota\", tree_python)"
   ]
  },
  {
   "cell_type": "code",
   "execution_count": 26,
   "metadata": {},
   "outputs": [
    {
     "name": "stdout",
     "output_type": "stream",
     "text": [
      "* Pythonidae\n",
      "     +--- Morelia\n",
      "          +--- Morelia spilota\n",
      "     +--- Python\n",
      "          +--- Python reticulatus\n",
      "          +--- Python regius\n",
      "          +--- Python bivittatus\n"
     ]
    }
   ],
   "source": [
    "pythonidae.print_tree()"
   ]
  },
  {
   "cell_type": "markdown",
   "metadata": {},
   "source": [
    "### Task 4"
   ]
  },
  {
   "cell_type": "code",
   "execution_count": 48,
   "metadata": {},
   "outputs": [],
   "source": [
    "import requests\n",
    "\n",
    "class Taxon(object):\n",
    "    def __init__(self, name, parent):\n",
    "        taxon_data = requests.get(\"https://rest.ensembl.org/taxonomy/id/\" + name + \"?content-type=application/json\").json()\n",
    "        self.name = taxon_data[\"name\"]\n",
    "        if \"children\" in taxon_data:\n",
    "            self.children = [Taxon(child[\"id\"], self) for child in taxon_data[\"children\"]]\n",
    "        else:\n",
    "            self.children = []\n",
    "        self.parent = parent\n",
    "        \n",
    "    def ancestors(self):\n",
    "        current_taxon = self\n",
    "        while current_taxon is not None:\n",
    "            yield current_taxon\n",
    "            current_taxon = current_taxon.parent\n",
    "            \n",
    "    def descendents(self):\n",
    "        remaining_taxons = [self]\n",
    "        while len(remaining_taxons) > 0:\n",
    "            current_taxon = remaining_taxons.pop()\n",
    "            if current_taxon is not self:\n",
    "                yield current_taxon\n",
    "            remaining_taxons.extend(current_taxon.children)\n",
    "    \n",
    "    def print_tree(self):\n",
    "        depths = {self: 0}\n",
    "        print(\"* \" + self.name)\n",
    "        for descendent in self.descendents():\n",
    "            depth = depths[descendent.parent] + 1\n",
    "            depths[descendent] = depth\n",
    "            print(\"     \" * depth + \"+--- \" + descendent.name)"
   ]
  },
  {
   "cell_type": "code",
   "execution_count": 55,
   "metadata": {},
   "outputs": [],
   "source": [
    "pythonidae = Taxon(\"Pythonidae\", None)"
   ]
  },
  {
   "cell_type": "code",
   "execution_count": 56,
   "metadata": {},
   "outputs": [
    {
     "name": "stdout",
     "output_type": "stream",
     "text": [
      "* Pythonidae\n",
      "     +--- Antaresia\n",
      "          +--- Antaresia maculosa\n",
      "          +--- Antaresia stimsoni\n",
      "          +--- Antaresia childreni\n",
      "          +--- Antaresia perthensis\n",
      "     +--- Malayopython\n",
      "          +--- Malayopython reticulatus\n",
      "               +--- Malayopython reticulatus saputrai\n",
      "               +--- Malayopython reticulatus jampeanus\n",
      "          +--- Malayopython timoriensis\n",
      "     +--- Liasis\n",
      "          +--- Liasis olivaceus\n",
      "          +--- Liasis fuscus\n",
      "          +--- Liasis mackloti\n",
      "               +--- Liasis mackloti savuensis\n",
      "          +--- Liasis papuana\n",
      "     +--- Aspidites\n",
      "          +--- Aspidites melanocephalus\n",
      "          +--- Aspidites ramsayi\n",
      "     +--- Python\n",
      "          +--- Python anchietae\n",
      "          +--- Python molurus\n",
      "               +--- Python molurus molurus\n",
      "          +--- Python bivittatus\n",
      "          +--- Python brongersmai\n",
      "          +--- Python natalensis\n",
      "          +--- Python regius\n",
      "          +--- Python sebae\n",
      "               +--- Python sebae sebae\n",
      "          +--- Python curtus\n",
      "     +--- Bothrochilus\n",
      "          +--- Bothrochilus albertisii\n",
      "          +--- Bothrochilus hoserae\n",
      "          +--- Bothrochilus boa\n",
      "     +--- Simalia\n",
      "          +--- Simalia nauta\n",
      "          +--- Simalia amethistina\n",
      "          +--- Simalia boeleni\n",
      "          +--- Simalia oenpelliensis\n",
      "          +--- Simalia kinghorni\n",
      "          +--- Simalia tracyae\n",
      "          +--- Simalia clastolepis\n",
      "     +--- Morelia\n",
      "          +--- Morelia carinata\n",
      "          +--- Morelia bredli\n",
      "          +--- Morelia spilota\n",
      "               +--- Morelia spilota spilota\n",
      "               +--- Morelia spilota imbricata\n",
      "               +--- Morelia spilota variegata\n",
      "          +--- Morelia viridis\n"
     ]
    }
   ],
   "source": [
    "pythonidae.print_tree()"
   ]
  }
 ],
 "metadata": {
  "kernelspec": {
   "display_name": "Python 3",
   "language": "python",
   "name": "python3"
  },
  "language_info": {
   "codemirror_mode": {
    "name": "ipython",
    "version": 3
   },
   "file_extension": ".py",
   "mimetype": "text/x-python",
   "name": "python",
   "nbconvert_exporter": "python",
   "pygments_lexer": "ipython3",
   "version": "3.6.0"
  }
 },
 "nbformat": 4,
 "nbformat_minor": 2
}
