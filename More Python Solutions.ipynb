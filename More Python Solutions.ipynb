{
 "cells": [
  {
   "cell_type": "markdown",
   "metadata": {},
   "source": [
    "### Task 1"
   ]
  },
  {
   "cell_type": "code",
   "execution_count": 1,
   "metadata": {},
   "outputs": [],
   "source": [
    "class Taxon(object):\n",
    "    def __init__(self, name, parent, rank):\n",
    "        self.name = name\n",
    "        self.parent = parent\n",
    "        self.rank = rank\n",
    "        \n",
    "pythonidae = Taxon(\"Pythonidae\", None, \"Family\")\n",
    "python = Taxon(\"Python\", pythonidae, \"Genus\")\n",
    "burmese_python = Taxon(\"Python bivittatus\", python, \"Species\")"
   ]
  },
  {
   "cell_type": "markdown",
   "metadata": {},
   "source": [
    "### Task 2"
   ]
  },
  {
   "cell_type": "code",
   "execution_count": 2,
   "metadata": {},
   "outputs": [],
   "source": [
    "class Taxon(object):\n",
    "    def __init__(self, name, parent):\n",
    "        self.name = name\n",
    "        self.parent = parent\n",
    "        \n",
    "    def ancestors(self):\n",
    "        current_taxon = self.parent\n",
    "        while current_taxon is not None:\n",
    "            yield current_taxon\n",
    "            current_taxon = current_taxon.parent\n",
    "            \n",
    "pythonidae = Taxon(\"Pythonidae\", None)\n",
    "python = Taxon(\"Python\", pythonidae)\n",
    "burmese_python = Taxon(\"Python bivittatus\", python)"
   ]
  },
  {
   "cell_type": "code",
   "execution_count": 3,
   "metadata": {},
   "outputs": [
    {
     "data": {
      "text/plain": [
       "['Python', 'Pythonidae']"
      ]
     },
     "execution_count": 3,
     "metadata": {},
     "output_type": "execute_result"
    }
   ],
   "source": [
    "ancestor_names = []\n",
    "for ancestor in burmese_python.ancestors():\n",
    "    ancestor_names.append(ancestor.name)\n",
    "ancestor_names"
   ]
  },
  {
   "cell_type": "code",
   "execution_count": null,
   "metadata": {},
   "outputs": [],
   "source": []
  }
 ],
 "metadata": {
  "kernelspec": {
   "display_name": "Python 3",
   "language": "python",
   "name": "python3"
  },
  "language_info": {
   "codemirror_mode": {
    "name": "ipython",
    "version": 3
   },
   "file_extension": ".py",
   "mimetype": "text/x-python",
   "name": "python",
   "nbconvert_exporter": "python",
   "pygments_lexer": "ipython3",
   "version": "3.6.0"
  }
 },
 "nbformat": 4,
 "nbformat_minor": 2
}
