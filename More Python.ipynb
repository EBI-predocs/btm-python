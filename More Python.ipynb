{
 "cells": [
  {
   "cell_type": "markdown",
   "metadata": {},
   "source": [
    "# More Python"
   ]
  },
  {
   "cell_type": "markdown",
   "metadata": {},
   "source": [
    "## Object-oriented Python"
   ]
  },
  {
   "cell_type": "markdown",
   "metadata": {},
   "source": [
    "We're going to explore Python's system for \"object-oriented programming\". Object-oriented programming is a way of combining functions with data. In fact, you've already used it. When you created a `list`, you were creating an **object** of the `list` **class**. When you reversed the list, you used the `reverse` **method** of the `list` class. A method is just a function which is attached to a class. So, in Python, lists are objects. Numbers, strings, and dictionaries are objects too. Functions are also objects! Almost everything in Python is an object.\n",
    "\n",
    "As well as using built in classes, you can create your own. Classes are a good way of organising your code. It helps you to keep related code together. This will be helpful if someone else ever has to read it. It will also be helpful when you read it in a year's time.\n",
    "\n",
    "The best way to understand this is to look at an example. We will be using object oriented programming to build a taxonomic tree."
   ]
  },
  {
   "cell_type": "markdown",
   "metadata": {},
   "source": [
    "## Basic Class"
   ]
  },
  {
   "cell_type": "markdown",
   "metadata": {},
   "source": [
    "Suppose that we want to build a taxonomic tree for part of the Pythonidae family of snakes. \n",
    "\n",
    "![Tree 1](./tree_1.png)\n",
    "\n",
    "Each taxa in the tree has two basic attributes: Its name, and its parent taxon. We can build a class which models this, as follows:"
   ]
  },
  {
   "cell_type": "code",
   "execution_count": 1,
   "metadata": {},
   "outputs": [],
   "source": [
    "class Taxon(object):\n",
    "    def __init__(self, name, parent):\n",
    "        self.name = name\n",
    "        self.parent = parent"
   ]
  },
  {
   "cell_type": "markdown",
   "metadata": {},
   "source": [
    "There will be several things here that are new, so we will go through them one at a time. Class definitions look very similar to function definitions. Instead of using `def`, we use `class` followed by the new class' name. In parenthesis after the name is the class that we want this class to **inherit** from. We don't need to use inheritance for this class, so we'll just inherit from the base class in Python which is `object`.\n",
    "\n",
    "Following the class definition line, we can define methods. Just as the lines of code which belong to a method are indented, the methods which belong to a class are indented.\n",
    "\n",
    "The `__init__` method is a special method which is run each time an object is created. The `__init__` method is used to set up the object. The main thing which distinguishes a method from a class is that the first argument to a method is always `self`. `self` is used to access the methods and attributes which belong to the object. In this case, we want to save the `name` and `parent` of the taxon. We do this by creating an attribute for each of these. Attributes are accessed using **`.`**. They are created by assigning a value to them.\n",
    "\n",
    "How do we use this new class? Let's create part of the Pythonidae taxonomy:"
   ]
  },
  {
   "cell_type": "code",
   "execution_count": 3,
   "metadata": {},
   "outputs": [],
   "source": [
    "pythonidae = Taxon(\"Pythonidae\", None)\n",
    "python = Taxon(\"Python\", pythonidae)\n",
    "burmese_python = Taxon(\"Python bivittatus\", python)"
   ]
  },
  {
   "cell_type": "markdown",
   "metadata": {},
   "source": [
    "To create an object of a particular class, we use the name of the class, as if we were calling a function with the class' name. You've seen this before, when you used the `list`, `str` and `int` functions to create lists and strings and integers. When you create a new object, Python calls the `__init__` method. It automatically fills in the value of the `self` argument.\n",
    "\n",
    "When I created the `Taxon` object for Pythonidae, instead of giving a parent taxon, I used `None`. `None` in Python is a special value which is used to represent the concept of nothing. In this case, I don't want to give Pythonidae a parent taxon, so I use `None`.\n",
    "\n",
    "The attributes which are assigned in the `__init__` method can be accessed after the object's creation, using **`.`**:"
   ]
  },
  {
   "cell_type": "code",
   "execution_count": 40,
   "metadata": {},
   "outputs": [
    {
     "data": {
      "text/plain": [
       "'Python bivittatus'"
      ]
     },
     "execution_count": 40,
     "metadata": {},
     "output_type": "execute_result"
    }
   ],
   "source": [
    "burmese_python.name"
   ]
  },
  {
   "cell_type": "markdown",
   "metadata": {},
   "source": [
    "### Task 1\n",
    "\n",
    "Suppose that we want to record the rank of the taxa. How could you modify the ``__init__`` method to support this?"
   ]
  },
  {
   "cell_type": "markdown",
   "metadata": {},
   "source": [
    "## Methods\n",
    "\n",
    "An obvious task with a taxonomic tree is to find the ancestors of a particular taxon. With object-oriented programming, we can write a method which will do this. We will modify our previous `Taxon` class to add this method."
   ]
  },
  {
   "cell_type": "code",
   "execution_count": 48,
   "metadata": {},
   "outputs": [],
   "source": [
    "class Taxon(object):\n",
    "    def __init__(self, name, parent):\n",
    "        self.name = name\n",
    "        self.parent = parent\n",
    "        \n",
    "    def ancestors(self):\n",
    "        current_taxon = self.parent\n",
    "        ancestors = []\n",
    "        while current_taxon is not None:\n",
    "            ancestors.append(current_taxon)\n",
    "            current_taxon = current_taxon.parent\n",
    "        return ancestors\n",
    "        \n",
    "pythonidae = Taxon(\"Pythonidae\", None)\n",
    "python = Taxon(\"Python\", pythonidae)\n",
    "burmese_python = Taxon(\"Python bivittatus\", python)"
   ]
  },
  {
   "cell_type": "markdown",
   "metadata": {},
   "source": [
    "The `ancestors` method doesn't take any arguments, apart from the automatic `self` variable. The output of the method should be a list of taxa, with the parent taxon of the taxon the method is being called on first, and then its parent, and so on. To create this list, we first create an empty list `ancestors = []`. We then use a `while` loop to add to it. A `while` loop is like a `for` loop, but instead of running the loop body once for each element in a `range` or `list`, the body is repeatedly run until the `while` condition is no longer true. In the loop body, the value of the `current_taxon` variable is appended to the ancestors list. The `current_taxon` variable is then set to the parent of the existing `current_taxon`. Remember that we set the value of the Pythonidae taxon's parent to be `None`. When this value is assigend to `current_taxon`, the expression `current_taxon is not None` is no longer true. This means that the loop stops running.\n",
    "\n",
    "We can use the new method to find the taxa which the Burmese Python belongs to:"
   ]
  },
  {
   "cell_type": "code",
   "execution_count": 50,
   "metadata": {},
   "outputs": [
    {
     "data": {
      "text/plain": [
       "[<__main__.Taxon at 0x10f8a7a58>, <__main__.Taxon at 0x10f8a7ba8>]"
      ]
     },
     "execution_count": 50,
     "metadata": {},
     "output_type": "execute_result"
    }
   ],
   "source": [
    "burmese_python.ancestors()"
   ]
  },
  {
   "cell_type": "markdown",
   "metadata": {},
   "source": [
    "This output isn't very helpful. We can use a `for` loop to print out the names of the ancestors:"
   ]
  },
  {
   "cell_type": "code",
   "execution_count": 66,
   "metadata": {},
   "outputs": [
    {
     "name": "stdout",
     "output_type": "stream",
     "text": [
      "Python\n",
      "Pythonidae\n"
     ]
    }
   ],
   "source": [
    "for ancestor in burmese_python.ancestors():\n",
    "    print(ancestor.name)"
   ]
  },
  {
   "cell_type": "markdown",
   "metadata": {},
   "source": [
    "## Iterables"
   ]
  },
  {
   "cell_type": "markdown",
   "metadata": {},
   "source": [
    "In Python, an `iterable` is an object which can be iterated over. In other words, it can be used in a `for` loop. You have seen that a `list` is an iterable. A ``range`` is also an iterable. You can create your own iterables, which can help simplify your code, and make it more efficient. We can rewrite the ancestors method to return an `iterable` instead of a `list`:"
   ]
  },
  {
   "cell_type": "code",
   "execution_count": 69,
   "metadata": {},
   "outputs": [],
   "source": [
    "class Taxon(object):\n",
    "    def __init__(self, name, parent):\n",
    "        self.name = name\n",
    "        self.parent = parent\n",
    "        \n",
    "    def ancestors(self):\n",
    "        current_taxon = self.parent\n",
    "        while current_taxon is not None:\n",
    "            yield current_taxon\n",
    "            current_taxon = current_taxon.parent\n",
    "            \n",
    "pythonidae = Taxon(\"Pythonidae\", None)\n",
    "python = Taxon(\"Python\", pythonidae)\n",
    "burmese_python = Taxon(\"Python bivittatus\", python)"
   ]
  },
  {
   "cell_type": "markdown",
   "metadata": {},
   "source": [
    "Written this way, the `ancestors` list is not needed. Instead of appending to a `list`, we use `yield` to say a particular value should be included in the iteration. Written this way, the method is shorter, and easier to understand. The `for` loop works just as before:"
   ]
  },
  {
   "cell_type": "code",
   "execution_count": 70,
   "metadata": {},
   "outputs": [
    {
     "name": "stdout",
     "output_type": "stream",
     "text": [
      "Python\n",
      "Pythonidae\n"
     ]
    }
   ],
   "source": [
    "for ancestor in burmese_python.ancestors():\n",
    "    print(ancestor.name)"
   ]
  },
  {
   "cell_type": "markdown",
   "metadata": {},
   "source": [
    "If we do want a list of ancestors, we can use the `list` function:"
   ]
  },
  {
   "cell_type": "code",
   "execution_count": 71,
   "metadata": {},
   "outputs": [
    {
     "data": {
      "text/plain": [
       "[<__main__.Taxon at 0x10f923f28>, <__main__.Taxon at 0x10f923eb8>]"
      ]
     },
     "execution_count": 71,
     "metadata": {},
     "output_type": "execute_result"
    }
   ],
   "source": [
    "list(burmese_python.ancestors())"
   ]
  },
  {
   "cell_type": "markdown",
   "metadata": {},
   "source": [
    "#### Question\n",
    "Using an `iterable` has another big advantage over returning a lists. What is it? This advantage is very important when iterating over very large things."
   ]
  },
  {
   "cell_type": "markdown",
   "metadata": {},
   "source": [
    "### Task 2\n",
    "\n",
    "Instead of printing out the names of the taxa which the Burmese Python belongs to, how could you construct a `list` containing the names?"
   ]
  },
  {
   "cell_type": "markdown",
   "metadata": {},
   "source": [
    "## List Comprehensions\n",
    "\n",
    "Python has a shortcut for building lists that are derived from `iterable` objects called **list comprehension**. The previous task can be completed very easily using a list comprehension:"
   ]
  },
  {
   "cell_type": "code",
   "execution_count": 74,
   "metadata": {},
   "outputs": [
    {
     "data": {
      "text/plain": [
       "['Python', 'Pythonidae']"
      ]
     },
     "execution_count": 74,
     "metadata": {},
     "output_type": "execute_result"
    }
   ],
   "source": [
    "[ancestor.name for ancestor in burmese_python.ancestors()]"
   ]
  },
  {
   "cell_type": "markdown",
   "metadata": {},
   "source": [
    "The right hand side of the list comprehension looks just like the `for` loop we've used before. On the left, before the `for`, is the statement which is used to build the list. "
   ]
  },
  {
   "cell_type": "code",
   "execution_count": 19,
   "metadata": {},
   "outputs": [],
   "source": [
    "pythonidae = Taxon(\"Pythonidae\", None)\n",
    "python = Taxon(\"Python\", pythonidae)\n",
    "burmese_python = Taxon(\"Python bivittatus\", python)\n",
    "ball_python = Taxon(\"Python regius\", python)\n",
    "reticulated_python = Taxon(\"Python reticulatus\", python)"
   ]
  },
  {
   "cell_type": "code",
   "execution_count": 20,
   "metadata": {},
   "outputs": [
    {
     "data": {
      "text/plain": [
       "['Python regius', 'Python', 'Pythonidae']"
      ]
     },
     "execution_count": 20,
     "metadata": {},
     "output_type": "execute_result"
    }
   ],
   "source": [
    "[a.name for a in ball_python.ancestors()]"
   ]
  },
  {
   "cell_type": "code",
   "execution_count": 21,
   "metadata": {},
   "outputs": [],
   "source": [
    "class Taxon(object):\n",
    "    def __init__(self, name, parent):\n",
    "        self.name = name\n",
    "        self.parent = parent\n",
    "        self.children = []\n",
    "        if self.parent is not None:\n",
    "            self.parent.children.append(self)\n",
    "        \n",
    "    def ancestors(self):\n",
    "        current_taxon = self\n",
    "        while current_taxon is not None:\n",
    "            yield current_taxon\n",
    "            current_taxon = current_taxon.parent"
   ]
  },
  {
   "cell_type": "code",
   "execution_count": 22,
   "metadata": {},
   "outputs": [],
   "source": [
    "pythonidae = Taxon(\"Pythonidae\", None)\n",
    "python = Taxon(\"Python\", pythonidae)\n",
    "burmese_python = Taxon(\"Python bivittatus\", python)\n",
    "ball_python = Taxon(\"Python regius\", python)\n",
    "reticulated_python = Taxon(\"Python reticulatus\", python)"
   ]
  },
  {
   "cell_type": "code",
   "execution_count": 23,
   "metadata": {},
   "outputs": [
    {
     "data": {
      "text/plain": [
       "['Python bivittatus', 'Python regius', 'Python reticulatus']"
      ]
     },
     "execution_count": 23,
     "metadata": {},
     "output_type": "execute_result"
    }
   ],
   "source": [
    "[c.name for c in python.children]"
   ]
  },
  {
   "cell_type": "code",
   "execution_count": 35,
   "metadata": {},
   "outputs": [],
   "source": [
    "class Taxon(object):\n",
    "    def __init__(self, name, parent):\n",
    "        self.name = name\n",
    "        self.parent = parent\n",
    "        self.children = []\n",
    "        if self.parent is not None:\n",
    "            self.parent.children.append(self)\n",
    "        \n",
    "    def ancestors(self):\n",
    "        current_taxon = self\n",
    "        while current_taxon is not None:\n",
    "            yield current_taxon\n",
    "            current_taxon = current_taxon.parent\n",
    "            \n",
    "    def descendents(self):\n",
    "        remaining_taxons = [self]\n",
    "        while len(remaining_taxons) > 0:\n",
    "            current_taxon = remaining_taxons.pop()\n",
    "            yield current_taxon\n",
    "            remaining_taxons.extend(current_taxon.children)"
   ]
  },
  {
   "cell_type": "code",
   "execution_count": 36,
   "metadata": {},
   "outputs": [],
   "source": [
    "pythonidae = Taxon(\"Pythonidae\", None)\n",
    "python = Taxon(\"Python\", pythonidae)\n",
    "burmese_python = Taxon(\"Python bivittatus\", python)\n",
    "ball_python = Taxon(\"Python regius\", python)\n",
    "reticulated_python = Taxon(\"Python reticulatus\", python)\n",
    "tree_python = Taxon(\"Morelia\", pythonidae)\n",
    "carpet_python = Taxon(\"Morelia spilota\", tree_python)"
   ]
  },
  {
   "cell_type": "code",
   "execution_count": 37,
   "metadata": {},
   "outputs": [
    {
     "data": {
      "text/plain": [
       "['Pythonidae',\n",
       " 'Morelia',\n",
       " 'Morelia spilota',\n",
       " 'Python',\n",
       " 'Python reticulatus',\n",
       " 'Python regius',\n",
       " 'Python bivittatus']"
      ]
     },
     "execution_count": 37,
     "metadata": {},
     "output_type": "execute_result"
    }
   ],
   "source": [
    "[d.name for d in pythonidae.descendents()]"
   ]
  },
  {
   "cell_type": "code",
   "execution_count": null,
   "metadata": {},
   "outputs": [],
   "source": [
    "class Taxon(object):\n",
    "    def __init__(self, name, parent):\n",
    "        self.name = name\n",
    "        self.parent = parent\n",
    "        self.children = []\n",
    "        if self.parent is not None:\n",
    "            self.parent.children.append(self)\n",
    "        \n",
    "    def ancestors(self):\n",
    "        current_taxon = self\n",
    "        while current_taxon is not None:\n",
    "            yield current_taxon\n",
    "            current_taxon = current_taxon.parent\n",
    "            \n",
    "    def descendents(self):\n",
    "        remaining_taxons = [self]\n",
    "        while len(remaining_taxons) > 0:\n",
    "            current_taxon = remaining_taxons.pop()\n",
    "            yield current_taxon\n",
    "            remaining_taxons.extend(current_taxon.children)\n",
    "            \n",
    "    def print_tree(self, width=60):\n",
    "        leaves = [descendent for descendent in descendents if descendent.children == []]\n",
    "        n_leaves = len(leaves)\n",
    "        "
   ]
  }
 ],
 "metadata": {
  "kernelspec": {
   "display_name": "Python 3",
   "language": "python",
   "name": "python3"
  },
  "language_info": {
   "codemirror_mode": {
    "name": "ipython",
    "version": 3
   },
   "file_extension": ".py",
   "mimetype": "text/x-python",
   "name": "python",
   "nbconvert_exporter": "python",
   "pygments_lexer": "ipython3",
   "version": "3.6.0"
  }
 },
 "nbformat": 4,
 "nbformat_minor": 2
}
